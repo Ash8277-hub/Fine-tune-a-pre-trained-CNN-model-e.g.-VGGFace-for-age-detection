{
 "cells": [
  {
   "cell_type": "code",
   "execution_count": null,
   "metadata": {},
   "outputs": [],
   "source": [
    "import tkinter as tk\n",
    "from tkinter import filedialog\n",
    "from tkinter import *\n",
    "from PIL import Image, ImageTk\n",
    "import numpy as np\n",
    "from keras.models import load_model\n",
    "from keras.optimizers import RMSprop"
   ]
  },
  {
   "cell_type": "code",
   "execution_count": null,
   "metadata": {},
   "outputs": [],
   "source": [
    "# Load the model\n",
    "model = load_model('C:/Ashrit/ML Prjct 1/vgg16_age_detection_model.keras', custom_objects={'RMSprop': RMSprop})\n",
    "model.compile(optimizer='rmsprop', loss='mean_absolute_error', metrics=['mae'])\n"
   ]
  },
  {
   "cell_type": "code",
   "execution_count": null,
   "metadata": {},
   "outputs": [],
   "source": [
    "# Initializing the GUI\n",
    "top = tk.Tk()\n",
    "top.geometry('800x600')\n",
    "top.title('Age Detector')\n",
    "top.configure(background='#CDCDCD')"
   ]
  },
  {
   "cell_type": "code",
   "execution_count": null,
   "metadata": {},
   "outputs": [],
   "source": [
    "# Initializing the Labels (for age)\n",
    "label1 = Label(top, background=\"#CDCDCD\", font=('arial', 15, \"bold\"))\n",
    "sign_image = Label(top)"
   ]
  },
  {
   "cell_type": "code",
   "execution_count": null,
   "metadata": {},
   "outputs": [],
   "source": [
    "# Defining Detect function which detects the age of the person in image using the model\n",
    "def Detect(file_path):\n",
    "    # Load the image\n",
    "    img = Image.open(file_path)\n",
    "\n",
    "    # Resize the image to the size expected by the model (128x128)\n",
    "    img = img.resize((128, 128))\n",
    "\n",
    "    # Convert the image to a numpy array\n",
    "    img_array = np.array(img)\n",
    "\n",
    "    # Expand the dimensions to fit the model's input shape (1, 128, 128, 3)\n",
    "    img_array = np.expand_dims(img_array, axis=0)  # Shape becomes (1, 128, 128, 3)\n",
    "\n",
    "    # Normalize the image\n",
    "    img_array = img_array / 255.0  # Rescale pixel values to [0, 1]\n",
    "\n",
    "    # Predict the age\n",
    "    pred = model.predict(img_array)\n",
    "    predicted_age = int(pred[0][0])  # Assuming model predicts a single age value\n",
    "\n",
    "    # Update label with the predicted age\n",
    "    label1.configure(foreground=\"#011638\", text=f\"Predicted Age: {predicted_age}\")"
   ]
  },
  {
   "cell_type": "code",
   "execution_count": null,
   "metadata": {},
   "outputs": [],
   "source": [
    "# Defining show_Detect button function\n",
    "def show_Detect_button(file_path):\n",
    "    Detect_b = Button(top, text=\"Detect Image\", command=lambda: Detect(file_path), padx=10, pady=5)\n",
    "    Detect_b.configure(background=\"#364156\", foreground='white', font=('arial', 10, 'bold'))\n",
    "    Detect_b.place(relx=0.79, rely=0.46)"
   ]
  },
  {
   "cell_type": "code",
   "execution_count": null,
   "metadata": {},
   "outputs": [],
   "source": [
    "# Defining Upload Image function\n",
    "def upload_image():\n",
    "    try:\n",
    "        file_path = filedialog.askopenfilename()\n",
    "        uploaded = Image.open(file_path)\n",
    "        uploaded.thumbnail(((top.winfo_width() / 2.25), (top.winfo_height() / 2.25)))\n",
    "        im = ImageTk.PhotoImage(uploaded)\n",
    "\n",
    "        sign_image.configure(image=im)\n",
    "        sign_image.image = im\n",
    "        label1.configure(text='')  # Clear previous prediction text\n",
    "        show_Detect_button(file_path)  # Show detect button after image is uploaded\n",
    "    except Exception as e:\n",
    "        print(f\"Error uploading image: {e}\")"
   ]
  },
  {
   "cell_type": "code",
   "execution_count": null,
   "metadata": {},
   "outputs": [],
   "source": [
    "# Upload Image button\n",
    "upload = Button(top, text=\"Upload Image\", command=upload_image, padx=10, pady=5)\n",
    "upload.configure(background=\"#364156\", foreground='white', font=('arial', 10, 'bold'))\n",
    "upload.pack(side='bottom', pady=50)"
   ]
  },
  {
   "cell_type": "code",
   "execution_count": null,
   "metadata": {},
   "outputs": [],
   "source": [
    "# Label to display the image and predicted age\n",
    "sign_image.pack(side='bottom', expand=True)\n",
    "label1.pack(side=\"bottom\", expand=True)"
   ]
  },
  {
   "cell_type": "code",
   "execution_count": null,
   "metadata": {},
   "outputs": [],
   "source": [
    "# Heading of the app\n",
    "heading = Label(top, text=\"Age Detector\", pady=20, font=('arial', 20, \"bold\"))\n",
    "heading.configure(background=\"#CDCDCD\", foreground=\"#364156\")\n",
    "heading.pack()"
   ]
  },
  {
   "cell_type": "code",
   "execution_count": null,
   "metadata": {},
   "outputs": [],
   "source": [
    "# Start the GUI loop\n",
    "top.mainloop()"
   ]
  },
  {
   "cell_type": "code",
   "execution_count": null,
   "metadata": {},
   "outputs": [],
   "source": []
  }
 ],
 "metadata": {
  "kernelspec": {
   "display_name": "base",
   "language": "python",
   "name": "python3"
  },
  "language_info": {
   "codemirror_mode": {
    "name": "ipython",
    "version": 3
   },
   "file_extension": ".py",
   "mimetype": "text/x-python",
   "name": "python",
   "nbconvert_exporter": "python",
   "pygments_lexer": "ipython3",
   "version": "3.12.7"
  }
 },
 "nbformat": 4,
 "nbformat_minor": 2
}
