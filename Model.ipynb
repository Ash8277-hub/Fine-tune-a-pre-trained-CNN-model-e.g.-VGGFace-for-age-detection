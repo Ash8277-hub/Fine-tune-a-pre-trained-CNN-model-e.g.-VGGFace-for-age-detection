{
 "cells": [
  {
   "cell_type": "code",
   "execution_count": null,
   "metadata": {},
   "outputs": [],
   "source": [
    "import numpy as np\n",
    "import cv2\n",
    "import os\n",
    "from tensorflow.keras.preprocessing.image import ImageDataGenerator\n",
    "from tensorflow.keras.models import load_model, Model\n",
    "from tensorflow.keras.layers import Dense, Flatten\n",
    "from tensorflow.keras.applications import VGG16\n",
    "from tensorflow.keras.optimizers import Adam\n",
    "import tensorflow as tf"
   ]
  },
  {
   "cell_type": "code",
   "execution_count": null,
   "metadata": {},
   "outputs": [],
   "source": [
    "# Define constants\n",
    "data_path = \"C:/Ashrit/Dataset_img\"  # Replace with the actual path to your image data\n",
    "image_size = 128"
   ]
  },
  {
   "cell_type": "code",
   "execution_count": null,
   "metadata": {},
   "outputs": [],
   "source": [
    "# Function to load and preprocess image data\n",
    "def load_data(path, max_samples=5000):\n",
    "    images, ages = [], []\n",
    "    all_images = os.listdir(path)[:max_samples]  # Limit for speed\n",
    "    for img_name in all_images:\n",
    "        img_path = os.path.join(path, img_name)\n",
    "        \n",
    "        try:\n",
    "            # Assuming filename structure: nm0000100_rm1001569280_1955-1-6_2011.jpg\n",
    "            parts = img_name.split(\"_\")\n",
    "            birth_date_str = parts[2]  # Expected birth date like \"1955-1-6\"\n",
    "            image_year_str = parts[3].split(\".\")[0]  # Expected year like \"2011\"\n",
    "            \n",
    "            # Extract birth year and calculate age\n",
    "            birth_year = int(birth_date_str.split(\"-\")[0])\n",
    "            image_year = int(image_year_str)\n",
    "            age = image_year - birth_year\n",
    "        except (IndexError, ValueError):\n",
    "            print(f\"Skipping {img_name} - couldn't extract age.\")\n",
    "            continue\n",
    "        \n",
    "        # Load and resize the image\n",
    "        img = cv2.imread(img_path)\n",
    "        if img is not None:\n",
    "            img = cv2.resize(img, (image_size, image_size))\n",
    "            images.append(img)\n",
    "            ages.append(age)\n",
    "        else:\n",
    "            print(f\"Skipping {img_name} - image not found or could not be read.\")\n",
    "    \n",
    "    return np.array(images), np.array(ages)\n",
    "\n",
    "# Load the dataset\n",
    "images, ages = load_data(data_path)\n",
    "images = images / 255.0  # Normalize images\n",
    "\n",
    "# Check shapes of loaded data\n",
    "print(f\"Loaded {len(images)} images and {len(ages)} ages.\")\n",
    "print(f\"Image shape: {images.shape}, Age shape: {ages.shape}\")"
   ]
  },
  {
   "cell_type": "code",
   "execution_count": null,
   "metadata": {},
   "outputs": [],
   "source": [
    "# Load VGG16 without top layers and freeze base layers\n",
    "base_model = VGG16(weights=\"imagenet\", include_top=False, input_shape=(image_size, image_size, 3))\n",
    "base_model.trainable = False  # Freeze all layers"
   ]
  },
  {
   "cell_type": "code",
   "execution_count": null,
   "metadata": {},
   "outputs": [],
   "source": [
    "# Add custom layers on top of the base model\n",
    "x = Flatten()(base_model.output)\n",
    "x = Dense(512, activation='relu')(x)\n",
    "x = Dense(1, activation='linear')(x)  # Linear activation for regression (age prediction)\n"
   ]
  },
  {
   "cell_type": "code",
   "execution_count": null,
   "metadata": {},
   "outputs": [],
   "source": [
    "model = Model(inputs=base_model.input, outputs=x)\n",
    "\n",
    "# Compile model with appropriate loss function and metrics\n",
    "model.compile(optimizer=Adam(learning_rate=0.0001), loss='mean_squared_error', metrics=['mae'])\n"
   ]
  },
  {
   "cell_type": "code",
   "execution_count": null,
   "metadata": {},
   "outputs": [],
   "source": [
    "# Data augmentation generator\n",
    "datagen = ImageDataGenerator(\n",
    "    validation_split=0.2,  # Use 20% of data for validation\n",
    "    rotation_range=10,\n",
    "    width_shift_range=0.1,\n",
    "    height_shift_range=0.1,\n",
    "    horizontal_flip=True\n",
    ")"
   ]
  },
  {
   "cell_type": "code",
   "execution_count": null,
   "metadata": {},
   "outputs": [],
   "source": [
    "import matplotlib.pyplot as plt\n",
    "plt.hist(ages, bins=20)\n",
    "plt.show()\n"
   ]
  },
  {
   "cell_type": "code",
   "execution_count": null,
   "metadata": {},
   "outputs": [],
   "source": [
    "from sklearn.model_selection import train_test_split\n",
    "from collections import Counter\n",
    "\n",
    "# Convert ages to a list for easier counting\n",
    "ages_list = list(ages)\n",
    "\n",
    "# Combine images and ages to facilitate resampling\n",
    "data = list(zip(images, ages_list))\n",
    "\n",
    "# Identify the minority class\n",
    "minority_class = [d for d in data if d[1] == min(set(ages_list), key=ages_list.count)]\n",
    "\n",
    "# Ensure minority class has at least 2 samples by duplicating if necessary\n",
    "if len(minority_class) < 2:\n",
    "    data.extend(minority_class * (2 - len(minority_class)))\n",
    "\n",
    "# Separate images and ages again\n",
    "images, ages = zip(*data)\n",
    "images = np.array(images)\n",
    "ages = np.array(ages)\n",
    "\n",
    "# Proceed with train-test split\n",
    "images_train, images_val, ages_train, ages_val = train_test_split(\n",
    "    images, ages, test_size=0.2, random_state=42, stratify=ages\n",
    ")\n"
   ]
  },
  {
   "cell_type": "code",
   "execution_count": null,
   "metadata": {},
   "outputs": [],
   "source": [
    "from tensorflow.keras.preprocessing.image import ImageDataGenerator\n",
    "\n",
    "# Initialize ImageDataGenerator\n",
    "datagen = ImageDataGenerator()\n",
    "\n",
    "# Generate training and validation batches\n",
    "train_generator = datagen.flow(images_train, ages_train, batch_size=32, shuffle=True)\n",
    "val_generator = datagen.flow(images_val, ages_val, batch_size=32, shuffle=True)\n"
   ]
  },
  {
   "cell_type": "code",
   "execution_count": null,
   "metadata": {},
   "outputs": [],
   "source": [
    "# Train the model\n",
    "history = model.fit(train_generator, epochs=50, validation_data=val_generator, verbose=1)\n"
   ]
  },
  {
   "cell_type": "code",
   "execution_count": null,
   "metadata": {},
   "outputs": [],
   "source": [
    "# Save the model\n",
    "model.save(\"C:/Ashrit/ML Prjct 1/vgg16_age_detection_model.keras\")\n",
    "print(\"Model saved as vgg16_age_detection_model.keras\")"
   ]
  },
  {
   "cell_type": "code",
   "execution_count": null,
   "metadata": {},
   "outputs": [],
   "source": [
    "import matplotlib.pyplot as plt\n",
    "\n",
    "# Plot training & validation loss\n",
    "plt.figure(figsize=(12, 6))\n",
    "plt.subplot(1, 2, 1)\n",
    "plt.plot(history.history['loss'], label='Training Loss')\n",
    "plt.plot(history.history['val_loss'], label='Validation Loss')\n",
    "plt.title('Model Loss')\n",
    "plt.xlabel('Epoch')\n",
    "plt.ylabel('Loss')\n",
    "plt.legend()\n",
    "\n",
    "# Plot training & validation MAE (Mean Absolute Error)\n",
    "plt.subplot(1, 2, 2)\n",
    "plt.plot(history.history['mae'], label='Training MAE')\n",
    "plt.plot(history.history['val_mae'], label='Validation MAE')\n",
    "plt.title('Model MAE')\n",
    "plt.xlabel('Epoch')\n",
    "plt.ylabel('Mean Absolute Error')\n",
    "plt.legend()\n",
    "\n",
    "plt.tight_layout()\n",
    "plt.show()\n"
   ]
  },
  {
   "cell_type": "code",
   "execution_count": null,
   "metadata": {},
   "outputs": [],
   "source": [
    "# Load the model for inference\n",
    "from tensorflow.keras.models import load_model\n",
    "import numpy as np\n",
    "\n",
    "model = load_model(\"C:/Ashrit/ML Prjct 1/vgg16_age_detection_model.keras\")\n",
    "\n",
    "# Example prediction on a test image from the validation set\n",
    "test_image = images_val[0]  # Use an example image from the validation set\n",
    "test_image = np.expand_dims(test_image, axis=0)  # Expand dimensions for the model input\n",
    "\n",
    "# Make prediction\n",
    "predicted_age = model.predict(test_image)\n",
    "print(f\"Predicted Age: {predicted_age[0][0]}\")\n"
   ]
  },
  {
   "cell_type": "code",
   "execution_count": null,
   "metadata": {},
   "outputs": [],
   "source": []
  }
 ],
 "metadata": {
  "kernelspec": {
   "display_name": "base",
   "language": "python",
   "name": "python3"
  },
  "language_info": {
   "codemirror_mode": {
    "name": "ipython",
    "version": 3
   },
   "file_extension": ".py",
   "mimetype": "text/x-python",
   "name": "python",
   "nbconvert_exporter": "python",
   "pygments_lexer": "ipython3",
   "version": "3.12.7"
  },
  "orig_nbformat": 4
 },
 "nbformat": 4,
 "nbformat_minor": 2
}
